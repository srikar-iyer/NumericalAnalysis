{
 "cells": [
  {
   "cell_type": "code",
   "execution_count": 187,
   "metadata": {},
   "outputs": [
    {
     "data": {
      "text/plain": [
       "'Numerical Analysis HW6 - Srikar Iyer'"
      ]
     },
     "execution_count": 187,
     "metadata": {},
     "output_type": "execute_result"
    }
   ],
   "source": [
    "import numpy as np\n",
    "from numpy import linalg\n",
    "import matplotlib.pyplot as plt\n",
    "'Numerical Analysis HW6 - Srikar Iyer'"
   ]
  },
  {
   "cell_type": "code",
   "execution_count": 188,
   "metadata": {},
   "outputs": [
    {
     "name": "stdout",
     "output_type": "stream",
     "text": [
      "0.6455775189871522\n",
      "7.296611725271518e-06\n"
     ]
    }
   ],
   "source": [
    "def trapez(f,a,b,m):\n",
    "    h=(b-a)/m #defines size of each slice\n",
    "    totalarea=(f(a)+f(b))/2 #adds f(a), f(b) first to the trapezoidal approximation since they are harder to loop over.\n",
    "    for i in range(1, int(m)): #iterating from the second to the 2nd to last slices \n",
    "        totalarea = totalarea + f(a + i*h) #adds the trapezoidal approximation of the 2nd to the last slices. This is more loop friendly. \n",
    "    return h*totalarea #multiplies each value of the slices with the size of each slice to get the total area\n",
    "\n",
    "def g(t):\n",
    "    return np.sqrt(t) #defining the function to approximate\n",
    "def ans():\n",
    "    return 2/3-1/(15*np.sqrt(10)) #getting the correct value of the integration in order to show error\n",
    "def error(f,a,b,m):\n",
    "    return ans() - trapez(f,a,b,m) #error = exact - approximate\n",
    "\n",
    "print(trapez(g, 0.1, 1, 100)) #printing the approximation using the trapezoid rule\n",
    "print(error(g,0.1,1,100)) #printing the error from the exact and approximative value\n",
    "\n",
    "\n",
    "\n",
    "\n",
    "\n"
   ]
  },
  {
   "cell_type": "code",
   "execution_count": 189,
   "metadata": {},
   "outputs": [
    {
     "data": {
      "image/png": "[encoded data removed]",
      "text/plain": [
       "<Figure size 432x288 with 1 Axes>"
      ]
     },
     "metadata": {
      "needs_background": "dark"
     },
     "output_type": "display_data"
    }
   ],
   "source": [
    "\n",
    "# inputs to plot using loglog plot\n",
    "x_input = np.array([2,4,8,16,32,64,128,256,512,1024]) #making a vector of quadrature slices in increasing order\n",
    "y_input = np.zeros(10) #making a vector of the same size\n",
    "for i in range(len(x_input)): \n",
    "    y_input[i] = y_input[i] + error(g, 0.1, 1, x_input[i]) #adding the trapezoidal error of the integral from 0.1 to 1 of f(x)=sqrt(x)\n",
    "fig = plt.figure()\n",
    "ax = fig.add_subplot(111) #setting a specific size\n",
    "\n",
    "ax.set_xlabel('Slice Count') #setting name of X-a\n",
    "ax.set_ylabel('Error') #setting name of Y-axis\n",
    "ax.set_title('Number Of Slices vs Quadrature Error of Composite Trapezoidal Rule') #setting title name\n",
    "\n",
    "ax.xaxis.label.set_color('white')        #setting up X-axis label color to yellow\n",
    "ax.yaxis.label.set_color('white')          #setting up Y-axis label color to blue\n",
    "ax.title.set_color('white')          #setting up Y-axis label color to blue\n",
    "\n",
    "ax.tick_params(axis='x', colors='white')    #setting up X-axis tick color to red\n",
    "ax.tick_params(axis='y', colors='white')  #setting up Y-axis tick color to black\n",
    "\n",
    "ax.spines['left'].set_color('black')        # setting up Y-axis tick color to red\n",
    "ax.spines['top'].set_color('black')         #setting up above X-axis tick color to red\n",
    "\n",
    "plt.show(plt.loglog(x_input, y_input, 'b')) # plotting the value of x_input and y_input using loglog plot\n"
   ]
  },
  {
   "cell_type": "code",
   "execution_count": 190,
   "metadata": {},
   "outputs": [
    {
     "name": "stdout",
     "output_type": "stream",
     "text": [
      "We know that ε = C*m^κ. Then, log(ε) = log(C) + κ*m. We can find κ by finding the of the line of best fit\n",
      "by finding log(C), or D, and κ using a least squares regression.\n",
      "[[1.000e+00 2.000e+00]\n",
      " [2.000e+00 4.000e+00]\n",
      " [3.000e+00 8.000e+00]\n",
      " [4.000e+00 1.600e+01]\n",
      " [5.000e+00 3.200e+01]\n",
      " [6.000e+00 6.400e+01]\n",
      " [7.000e+00 1.280e+02]\n",
      " [8.000e+00 2.560e+02]\n",
      " [9.000e+00 5.120e+02]\n",
      " [1.000e+01 1.024e+03]] [1.57046363e-02 4.29830095e-03 1.11837851e-03 2.83514990e-04\n",
      " 7.11653687e-05 1.78102246e-05 4.45375385e-06 1.11351361e-06\n",
      " 2.78383102e-07 6.95960696e-08]\n"
     ]
    }
   ],
   "source": [
    "print(\"We know that \\u03B5 = C*m^\\u03BA. Then, log(\\u03B5) = log(C) + \\u03BA*m. We can find \\u03BA by finding the of the line of best fit\")\n",
    "print(\"by finding log(C), or D, and \\u03BA using a least squares regression.\") \n",
    "\n",
    "t = np.arange(1, 11)\n",
    "\n",
    "A = np.zeros((len(t),2))\n",
    "\n",
    "A[:,0] = t\n",
    "A[:,1] = np.array([2,4,8,16,32,64,128,256,512,1024])\n",
    "b = np.array([1.57046363e-02, 4.29830095e-03, 1.11837851e-03, 2.83514990e-04,\n",
    "7.11653687e-05, 1.78102246e-05, 4.45375385e-06, 1.11351361e-06,\n",
    "2.78383102e-07, 6.95960696e-08])\n",
    "print(A, b) #creating a linear system"
   ]
  },
  {
   "cell_type": "code",
   "execution_count": 191,
   "metadata": {},
   "outputs": [
    {
     "name": "stdout",
     "output_type": "stream",
     "text": [
      "So, κ is 2.59210833e-06 and D is 2.00206059e-04 through solving the least square system.\n",
      "From the textbook, κ is derived as M (b-a)^3 / 12m^2 where M is the maximum absolute value of the 2nd derivative of f(ξ) where\n",
      " ξ is between a and b. In this case, we assume m=10 to compare, so ξ = 2.656*(1-0.1)^3/(12*10^2)\n",
      " which is around 1.61*10^-4, which is close to our approximation.\n"
     ]
    }
   ],
   "source": [
    "Q, R = linalg.qr(A) #QR factorizing A\n",
    "coeffs_1 = linalg.solve(R, Q.transpose() @ b) #solving the linear system Ax=b by utilizing the facts QRx=b and Rx=Q^Tb\n",
    "coeffs_1\n",
    "#So now we can create a linear least squares approximation\n",
    "print(\"So, \\u03BA is 2.59210833e-06 and D is 2.00206059e-04 through solving the least square system.\")\n",
    "print(\"From the textbook, \\u03BA is derived as M (b-a)^3 / 12m^2 where M is the maximum absolute value of the 2nd derivative of f(\\u03BE) where\") \n",
    "print(\" \\u03BE is between a and b. In this case, we assume m=10 to compare, so \\u03BE = 2.656*(1-0.1)^3/(12*10^2)\")\n",
    "print(\" which is around 1.61*10^-4, which is close to our approximation.\")"
   ]
  },
  {
   "cell_type": "code",
   "execution_count": 192,
   "metadata": {},
   "outputs": [
    {
     "name": "stdout",
     "output_type": "stream",
     "text": [
      "0.6664629471031477\n",
      "-0.020878131504270203\n"
     ]
    }
   ],
   "source": [
    "#We redo 4a and 4b for sqrt(x) on the interval a=0 and a=1. \n",
    "print(trapez(g, 0, 1, 100)) #printing the approximation using the trapezoid rule\n",
    "print(error(g,0,1,100)) #printing the error from the exact and approximative value\n"
   ]
  },
  {
   "cell_type": "code",
   "execution_count": 193,
   "metadata": {},
   "outputs": [
    {
     "data": {
      "image/png": "[encoded data removed]",
      "text/plain": [
       "<Figure size 432x288 with 1 Axes>"
      ]
     },
     "metadata": {
      "needs_background": "dark"
     },
     "output_type": "display_data"
    },
    {
     "name": "stdout",
     "output_type": "stream",
     "text": [
      "[ 0.04203143  0.00230177 -0.01254541 -0.01799638 -0.01997412 -0.020686\n",
      " -0.02094084 -0.02103173 -0.02106407 -0.02107555]\n"
     ]
    }
   ],
   "source": [
    "# inputs to plot using loglog plot\n",
    "x_input = np.array([2,4,8,16,32,64,128,256,512,1024]) #making a vector of quadrature slices in increasing order\n",
    "y_input = np.zeros(10) #making a vector of the same size\n",
    "for i in range(len(x_input)): \n",
    "    y_input[i] = y_input[i] + error(g, 0, 1, x_input[i]) #adding the trapezoidal error of the integral from 0.1 to 1 of f(x)=sqrt(x)\n",
    "fig = plt.figure()\n",
    "ax = fig.add_subplot(111) #setting a specific size\n",
    "\n",
    "ax.set_xlabel('Slice Count') #setting name of X-a\n",
    "ax.set_ylabel('Error') #setting name of Y-axis\n",
    "ax.set_title('Number Of Slices vs Quadrature Error of Composite Trapezoidal Rule') #setting title name\n",
    "\n",
    "ax.xaxis.label.set_color('white')        #setting up X-axis label color to yellow\n",
    "ax.yaxis.label.set_color('white')          #setting up Y-axis label color to blue\n",
    "ax.title.set_color('white')          #setting up Y-axis label color to blue\n",
    "\n",
    "ax.tick_params(axis='x', colors='white')    #setting up X-axis tick color to red\n",
    "ax.tick_params(axis='y', colors='white')  #setting up Y-axis tick color to black\n",
    "\n",
    "ax.spines['left'].set_color('black')        # setting up Y-axis tick color to red\n",
    "ax.spines['top'].set_color('black')         #setting up above X-axis tick color to red\n",
    "\n",
    "plt.show(plt.loglog(x_input, y_input, 'b')) # plotting the value of x_input and y_input using loglog plot\n",
    "print(y_input)\n"
   ]
  },
  {
   "cell_type": "code",
   "execution_count": 194,
   "metadata": {},
   "outputs": [
    {
     "name": "stdout",
     "output_type": "stream",
     "text": [
      "[[1.000e+00 2.000e+00]\n",
      " [2.000e+00 4.000e+00]\n",
      " [3.000e+00 8.000e+00]\n",
      " [4.000e+00 1.600e+01]\n",
      " [5.000e+00 3.200e+01]\n",
      " [6.000e+00 6.400e+01]\n",
      " [7.000e+00 1.280e+02]\n",
      " [8.000e+00 2.560e+02]\n",
      " [9.000e+00 5.120e+02]\n",
      " [1.000e+01 1.024e+03]] [ 0.04203143  0.00230177 -0.01254541 -0.01799638 -0.01997412 -0.020686\n",
      " -0.02094084 -0.02103173 -0.02106407 -0.02107555]\n"
     ]
    }
   ],
   "source": [
    "#The least squares regression would be similar, with only b changing.\n",
    "\n",
    "t = np.arange(1, 11)\n",
    "\n",
    "A = np.zeros((len(t),2))\n",
    "\n",
    "A[:,0] = t\n",
    "A[:,1] = np.array([2,4,8,16,32,64,128,256,512,1024])\n",
    "b = np.array([ 0.04203143,  0.00230177, -0.01254541, -0.01799638, -0.01997412, -0.020686,\n",
    "-0.02094084, -0.02103173, -0.02106407, -0.02107555])\n",
    "print(A, b) #creating a linear system\n",
    "\n"
   ]
  },
  {
   "cell_type": "code",
   "execution_count": 195,
   "metadata": {},
   "outputs": [
    {
     "data": {
      "text/plain": [
       "array([-3.09475618e-03,  1.02710154e-05])"
      ]
     },
     "execution_count": 195,
     "metadata": {},
     "output_type": "execute_result"
    }
   ],
   "source": [
    "Q, R = linalg.qr(A) #QR factorizing A\n",
    "coeffs_1 = linalg.solve(R, Q.transpose() @ b) #solving the linear system Ax=b by utilizing the facts QRx=b and Rx=Q^Tb\n",
    "coeffs_1"
   ]
  },
  {
   "cell_type": "code",
   "execution_count": 196,
   "metadata": {},
   "outputs": [
    {
     "name": "stdout",
     "output_type": "stream",
     "text": [
      "So, κ is -3.09475618e-03 and D is 1.02710154e-05 in our linear approximation.\n",
      "We cannot use the theoretical estimates of the integral of f(x) from 0 to 1. This is because the taylor approximation of f, which is\n",
      "required to derive a polynomial approximation of the error of f, requires the derivative of f to exist. However, f'(0) = \n",
      "1/(2*0) = 1/0. Because this does not exist, the theoretical estimates do not exist either.\n"
     ]
    }
   ],
   "source": [
    "print(\"So, \\u03BA is -3.09475618e-03 and D is 1.02710154e-05 in our linear approximation.\")\n",
    "print(\"We cannot use the theoretical estimates of the integral of f(x) from 0 to 1. This is because the taylor approximation of f, which is\")\n",
    "print(\"required to derive a polynomial approximation of the error of f, requires the derivative of f to exist. However, f'(0) = \")\n",
    "print(\"1/(2*0) = 1/0. Because this does not exist, the theoretical estimates do not exist either.\")"
   ]
  },
  {
   "cell_type": "code",
   "execution_count": 204,
   "metadata": {},
   "outputs": [
    {
     "name": "stdout",
     "output_type": "stream",
     "text": [
      "We plot the error of I_k and the Gaussian Quadrature approximation\n",
      "[0.         0.16666667 0.25       0.35       0.45833333 0.57964286\n",
      " 0.59125   ]\n"
     ]
    }
   ],
   "source": [
    "print(\"We plot the error of I_k and the Gaussian Quadrature approximation\") \n",
    "I = np.array([1, 5/6, 3/4, 7/10, 2/3, 9/14, 6/8]) #\n",
    "#Then, we calculate the 3 point Gaussian Quadrature Method Approximation for each k through Wolframalpha, and return the array\n",
    "S = np.array([1, 1, 1, 1.05, 1.125, 1.2225, 1.34125])\n",
    "E = I-S #creating the error of Gaussian Quadrature vs actual integration\n",
    "for i in range(len(E)):\n",
    "    E=np.abs(E)\n",
    "print(E)\n",
    "\n"
   ]
  },
  {
   "cell_type": "code",
   "execution_count": 205,
   "metadata": {},
   "outputs": [
    {
     "data": {
      "image/png": "[encoded data removed]",
      "text/plain": [
       "<Figure size 432x288 with 1 Axes>"
      ]
     },
     "metadata": {
      "needs_background": "dark"
     },
     "output_type": "display_data"
    }
   ],
   "source": [
    "# inputs to plot using loglog plot\n",
    "x_iterate = np.array([1,2,3,4,5,6,7]) #making a vector of quadrature slices in increasing order\n",
    "\n",
    "fig = plt.figure()\n",
    "ax = fig.add_subplot(111) #setting a specific size\n",
    "\n",
    "ax.set_xlabel('Slice Count') #setting name of X-acis\n",
    "ax.set_ylabel('Error') #setting name of Y-axis\n",
    "ax.set_title('k vs Gaussian Quadrature Error') #setting title name\n",
    "\n",
    "ax.xaxis.label.set_color('white')        #setting up X-axis label color to yellow\n",
    "ax.yaxis.label.set_color('white')          #setting up Y-axis label color to blue\n",
    "ax.title.set_color('white')          #setting up Y-axis label color to blue\n",
    "\n",
    "ax.tick_params(axis='x', colors='white')    #setting up X-axis tick color to red\n",
    "ax.tick_params(axis='y', colors='white')  #setting up Y-axis tick color to black\n",
    "\n",
    "ax.spines['left'].set_color('black')        # setting up Y-axis tick color to red\n",
    "ax.spines['top'].set_color('black')         #setting up above X-axis tick color to red\n",
    "\n",
    "plt.show(plt.plot(x_iterate, E, 'b')) # plotting the final graph\n"
   ]
  }
 ],
 "metadata": {
  "kernelspec": {
   "display_name": "Python 3.9.13 64-bit (microsoft store)",
   "language": "python",
   "name": "python3"
  },
  "language_info": {
   "codemirror_mode": {
    "name": "ipython",
    "version": 3
   },
   "file_extension": ".py",
   "mimetype": "text/x-python",
   "name": "python",
   "nbconvert_exporter": "python",
   "pygments_lexer": "ipython3",
   "version": "3.9.13"
  },
  "orig_nbformat": 4,
  "vscode": {
   "interpreter": {
    "hash": "f487cd0f1b314ae66fc495c393638a2de5bc0981475fb8126a23876567974a5b"
   }
  }
 },
 "nbformat": 4,
 "nbformat_minor": 2
}
