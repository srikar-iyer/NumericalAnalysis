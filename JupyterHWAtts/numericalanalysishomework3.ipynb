{
 "cells": [
  {
   "cell_type": "code",
   "execution_count": 4,
   "metadata": {},
   "outputs": [],
   "source": [
    "import numpy as np\n",
    "from numpy import linalg\n",
    "import matplotlib.pyplot as plt\n",
    "import time"
   ]
  },
  {
   "cell_type": "code",
   "execution_count": 5,
   "metadata": {},
   "outputs": [],
   "source": [
    "'''\n",
    "Problem 1C\n",
    "This program sums over the absolute value of the columns of any finite matrix and \n",
    "takes the maximum value of the resulting vector to get the 1 norm of the matrix, and \n",
    "sums over the absolute value of the rows of any finite matrix and \n",
    "takes the maximum value of the resulting vector to get the infinity norm of the matrix.\n",
    "\n",
    "Problem 1D\n",
    "The part after this looks at the runtime of the norm methods I created and the numpy\n",
    "generated norm methods of matrices ranging from size 100X100 to 12800X12800. These results \n",
    "are then graphed to compare them and derive a conclusion from the results.\n",
    "'''\n",
    "def onenorm(X):\n",
    "    r = np.max(np.sum(np.abs(X),0))\n",
    "    return r\n",
    "\n",
    "def infnorm(X):\n",
    "    r = np.max(np.sum(np.abs(X),1))\n",
    "    return r\n",
    "\n",
    "        "
   ]
  },
  {
   "cell_type": "code",
   "execution_count": 6,
   "metadata": {},
   "outputs": [
    {
     "name": "stdout",
     "output_type": "stream",
     "text": [
      "The starting time is 1665952333.924533 and the ending time is 1665952333.9614975\n",
      "The time taken for this iteration is 0.03696465492248535\n",
      "The starting time is 1665952333.9614975 and the ending time is 1665952333.9635506\n",
      "The time taken for this iteration is 0.0020530223846435547\n",
      "The starting time is 1665952333.9645953 and the ending time is 1665952333.967595\n",
      "The time taken for this iteration is 0.0029997825622558594\n",
      "The starting time is 1665952333.967595 and the ending time is 1665952333.9766307\n",
      "The time taken for this iteration is 0.009035587310791016\n",
      "The starting time is 1665952333.9766307 and the ending time is 1665952334.0206876\n",
      "The time taken for this iteration is 0.04405689239501953\n",
      "The starting time is 1665952334.0206876 and the ending time is 1665952334.1828814\n",
      "The time taken for this iteration is 0.16219377517700195\n",
      "The starting time is 1665952334.1828814 and the ending time is 1665952334.8817008\n",
      "The time taken for this iteration is 0.6988193988800049\n",
      "Clearly, my hypothesis in 1B is correct with some error due to the randomness of the matrices since the time between iterations roughly doubles after every round\n"
     ]
    }
   ],
   "source": [
    "timelist1N=[]\n",
    "for i in range(0,7):\n",
    "    starttime1N=time.time()\n",
    "    onenorm(np.random.rand(100*2**i,100*2**i))\n",
    "    endtime1N=time.time()\n",
    "    timelist1N.append(endtime1N-starttime1N)\n",
    "    print(\"The starting time is \" + str(starttime1N) + \" and the ending time is \" + str(endtime1N))\n",
    "    print(\"The time taken for this iteration is \" + str(endtime1N-starttime1N))\n",
    "print(\"Clearly, my hypothesis in 1B is correct with some error due to the randomness of the matrices since the time between iterations roughly doubles after every round\")"
   ]
  },
  {
   "cell_type": "code",
   "execution_count": 7,
   "metadata": {},
   "outputs": [
    {
     "name": "stdout",
     "output_type": "stream",
     "text": [
      "The starting time is 1665952334.9236434 and the ending time is 1665952334.9236434\n",
      "The time taken for this iteration is 0.0\n",
      "The starting time is 1665952334.9246178 and the ending time is 1665952334.9256191\n",
      "The time taken for this iteration is 0.0010013580322265625\n",
      "The starting time is 1665952334.9256191 and the ending time is 1665952334.9306226\n",
      "The time taken for this iteration is 0.005003452301025391\n",
      "The starting time is 1665952334.9306226 and the ending time is 1665952334.9456518\n",
      "The time taken for this iteration is 0.015029191970825195\n",
      "The starting time is 1665952334.9467523 and the ending time is 1665952334.9915316\n",
      "The time taken for this iteration is 0.044779300689697266\n",
      "The starting time is 1665952334.9925284 and the ending time is 1665952335.191274\n",
      "The time taken for this iteration is 0.1987454891204834\n",
      "The starting time is 1665952335.191274 and the ending time is 1665952335.8225646\n",
      "The time taken for this iteration is 0.6312906742095947\n",
      "My hypothesis in 1B is still correct with some error due to similar results as the 1 norm\n"
     ]
    }
   ],
   "source": [
    "timelistIN=[]\n",
    "for i in range(0,7):\n",
    "    starttimeIN=time.time()\n",
    "    infnorm(np.random.rand(100*2**i,100*2**i))\n",
    "    endtimeIN=time.time()\n",
    "    timelistIN.append(endtimeIN-starttimeIN)\n",
    "    print(\"The starting time is \" + str(starttimeIN) + \" and the ending time is \" + str(endtimeIN))\n",
    "    print(\"The time taken for this iteration is \" + str(endtimeIN-starttimeIN))\n",
    "print(\"My hypothesis in 1B is still correct with some error due to similar results as the 1 norm\")"
   ]
  },
  {
   "cell_type": "code",
   "execution_count": 8,
   "metadata": {},
   "outputs": [
    {
     "name": "stdout",
     "output_type": "stream",
     "text": [
      "The starting time is 1665952335.8541179 and the ending time is 1665952335.8551283\n",
      "The time taken for this iteration is 0.0010104179382324219\n",
      "The starting time is 1665952335.856113 and the ending time is 1665952335.8571591\n",
      "The time taken for this iteration is 0.0010461807250976562\n",
      "The starting time is 1665952335.8571591 and the ending time is 1665952335.8611374\n",
      "The time taken for this iteration is 0.003978252410888672\n",
      "The starting time is 1665952335.8621192 and the ending time is 1665952335.8741174\n",
      "The time taken for this iteration is 0.011998176574707031\n",
      "The starting time is 1665952335.8741174 and the ending time is 1665952335.9525423\n",
      "The time taken for this iteration is 0.07842493057250977\n",
      "The starting time is 1665952335.9535425 and the ending time is 1665952336.1384358\n",
      "The time taken for this iteration is 0.18489336967468262\n",
      "The starting time is 1665952336.1394365 and the ending time is 1665952336.784296\n",
      "The time taken for this iteration is 0.6448595523834229\n"
     ]
    }
   ],
   "source": [
    "'''\n",
    "Problem 1D\n",
    "'''\n",
    "NPtimelist1N=[]\n",
    "for i in range(0,7):\n",
    "    NPstarttime1N=time.time()\n",
    "    np.linalg.norm(np.random.rand(100*2**i,100*2**i), 1)\n",
    "    NPendtime1N=time.time()\n",
    "    NPtimelist1N.append(NPendtime1N-NPstarttime1N)\n",
    "    print(\"The starting time is \" + str(NPstarttime1N) + \" and the ending time is \" + str(NPendtime1N))\n",
    "    print(\"The time taken for this iteration is \" + str(NPendtime1N-NPstarttime1N))\n",
    "#this method, for the next 3 functions as well, tracks how long each iteration takes with my norms vs numpy's defined norms"
   ]
  },
  {
   "cell_type": "code",
   "execution_count": 9,
   "metadata": {},
   "outputs": [
    {
     "name": "stdout",
     "output_type": "stream",
     "text": [
      "The starting time is 1665952336.8192332 and the ending time is 1665952336.8202512\n",
      "The time taken for this iteration is 0.0010180473327636719\n",
      "The starting time is 1665952336.8202512 and the ending time is 1665952336.8212392\n",
      "The time taken for this iteration is 0.000988006591796875\n",
      "The starting time is 1665952336.8212392 and the ending time is 1665952336.8264537\n",
      "The time taken for this iteration is 0.0052144527435302734\n",
      "The starting time is 1665952336.8269708 and the ending time is 1665952336.840552\n",
      "The time taken for this iteration is 0.013581275939941406\n",
      "The starting time is 1665952336.840552 and the ending time is 1665952336.9179957\n",
      "The time taken for this iteration is 0.07744359970092773\n",
      "The starting time is 1665952336.9189973 and the ending time is 1665952337.0828214\n",
      "The time taken for this iteration is 0.16382408142089844\n",
      "The starting time is 1665952337.0828214 and the ending time is 1665952337.8097506\n",
      "The time taken for this iteration is 0.7269291877746582\n"
     ]
    }
   ],
   "source": [
    "NPtimelistIN=[]\n",
    "for i in range(0,7):\n",
    "    NPstarttimeIN=time.time()\n",
    "    np.linalg.norm(np.random.rand(100*2**i,100*2**i), np.inf)\n",
    "    NPendtimeIN=time.time()\n",
    "    NPtimelistIN.append(NPendtimeIN-NPstarttimeIN)\n",
    "    print(\"The starting time is \" + str(NPstarttimeIN) + \" and the ending time is \" + str(NPendtimeIN))\n",
    "    print(\"The time taken for this iteration is \" + str(NPendtimeIN-NPstarttimeIN))\n"
   ]
  },
  {
   "cell_type": "code",
   "execution_count": 10,
   "metadata": {},
   "outputs": [
    {
     "data": {
      "image/png": "[encoded data removed]",
      "text/plain": [
       "<Figure size 432x288 with 1 Axes>"
      ]
     },
     "metadata": {
      "needs_background": "light"
     },
     "output_type": "display_data"
    }
   ],
   "source": [
    "ts = np.linspace(0, 7)\n",
    "iterations = [1,2,3,4,5,6,7]\n",
    "'''\n",
    "this plot plots the difference in time per iteration for each sequence\n",
    "'''\n",
    "plt.plot(iterations, timelist1N, ls='', marker='o', label='MyOneNorm', color='0')\n",
    "plt.plot(iterations, timelistIN, ls='', marker='o', label='MyInfNorm', color = '0.5')\n",
    "plt.plot(iterations, NPtimelist1N, ls='', marker='o', label='NPOneNorm', color = 'r')\n",
    "plt.plot(iterations, NPtimelistIN, ls='', marker='o', label='NPInfNorm', color = 'b')\n",
    "\n",
    "plt.xlabel('Iteration')\n",
    "plt.ylabel('Difference in Time')\n",
    "plt.legend();\n",
    "\n",
    "plt.title('Fitted Runtime Models');"
   ]
  },
  {
   "cell_type": "code",
   "execution_count": 11,
   "metadata": {},
   "outputs": [
    {
     "name": "stdout",
     "output_type": "stream",
     "text": [
      "NumPy's implementation and my implementation for both norms are pretty similar regarding runtime, with some stochasticity probably due to the random matrices.\n"
     ]
    },
    {
     "data": {
      "image/png": "[encoded data removed]",
      "text/plain": [
       "<Figure size 432x288 with 1 Axes>"
      ]
     },
     "metadata": {
      "needs_background": "light"
     },
     "output_type": "display_data"
    }
   ],
   "source": [
    "ts = np.linspace(0, 5)\n",
    "iterations = [1,2,3,4,5]\n",
    "Smalltl1N=[timelist1N[0], timelist1N[1], timelist1N[2], timelist1N[3], timelist1N[4]]\n",
    "SmalltlIN=[timelistIN[0], timelistIN[1], timelistIN[2], timelistIN[3], timelistIN[4]]\n",
    "SmallNPtl1N=[NPtimelist1N[0], NPtimelist1N[1], NPtimelist1N[2], NPtimelist1N[3], NPtimelist1N[4]]\n",
    "SmallNPtlIN=[NPtimelistIN[0], NPtimelistIN[1], NPtimelistIN[2], NPtimelistIN[3], NPtimelistIN[4]]\n",
    "#creating a smaller version of the graph with less points for more visibility / perspective\n",
    "plt.plot(iterations, Smalltl1N, ls='', marker='o', label='MyOneNorm', color='0')\n",
    "plt.plot(iterations, SmalltlIN, ls='', marker='o', label='MyInfNorm', color = '0.5')\n",
    "plt.plot(iterations, SmallNPtl1N, ls='', marker='o', label='NPOneNorm', color = 'r')\n",
    "plt.plot(iterations, SmallNPtlIN, ls='', marker='o', label='NPInfNorm', color = 'b')\n",
    "#1 set of points per sequence\n",
    "plt.xlabel('Iteration')\n",
    "plt.ylabel('Difference in Time')\n",
    "plt.legend();\n",
    "\n",
    "plt.title('Fitted Runtime Models');\n",
    "print(\"NumPy's implementation and my implementation for both norms are pretty similar regarding runtime, with some stochasticity probably due to the random matrices.\")"
   ]
  },
  {
   "cell_type": "code",
   "execution_count": 12,
   "metadata": {},
   "outputs": [
    {
     "name": "stdout",
     "output_type": "stream",
     "text": [
      "[[-0.6  0. ]\n",
      " [-0.8  0. ]\n",
      " [-0.  -1. ]]\n",
      "\n",
      "[[-15.  10.]\n",
      " [  0. -20.]]\n"
     ]
    }
   ],
   "source": [
    "'''\n",
    "Question 5\n",
    "'''\n",
    "A = np.array([[9, -6], [12, -8], [0, 20]])\n",
    "Q, R = np.linalg.qr(A)\n",
    "print(Q)\n",
    "print('')\n",
    "print(R)\n"
   ]
  },
  {
   "cell_type": "code",
   "execution_count": 13,
   "metadata": {},
   "outputs": [
    {
     "data": {
      "text/plain": [
       "(array([300, 600, 900]), array([74., 45.]))"
      ]
     },
     "execution_count": 13,
     "metadata": {},
     "output_type": "execute_result"
    }
   ],
   "source": [
    "b = np.transpose(np.array([300, 600, 900]))\n",
    "x = linalg.solve(R, (Q.transpose() @ b))\n",
    "b, x"
   ]
  },
  {
   "cell_type": "code",
   "execution_count": 14,
   "metadata": {},
   "outputs": [],
   "source": [
    "def F_1(z):\n",
    "    return (300-9*z)/(-6)\n",
    "def F_2(z): \n",
    "    return (600-12*z)/(-8)\n",
    "def F_3(z):\n",
    "    return 900/20+0*z"
   ]
  },
  {
   "cell_type": "code",
   "execution_count": 15,
   "metadata": {},
   "outputs": [
    {
     "data": {
      "image/png": "[encoded data removed]",
      "text/plain": [
       "<Figure size 432x288 with 1 Axes>"
      ]
     },
     "metadata": {
      "needs_background": "light"
     },
     "output_type": "display_data"
    }
   ],
   "source": [
    "z = np.linspace(0, 100)\n",
    "\n",
    "plt.plot(z, F_1(z), label='Line 1')\n",
    "plt.plot(z, F_2(z), label='Line 2')\n",
    "plt.plot(z, F_3(z), label='Line 3')\n",
    "\n",
    "plt.plot(74, 45, ls='', marker='*', label='Observations')\n",
    "\n",
    "plt.xlabel('Time')\n",
    "plt.ylabel('Infections')\n",
    "plt.legend();\n",
    "\n",
    "plt.title('Fitted infection models');"
   ]
  },
  {
   "cell_type": "code",
   "execution_count": 33,
   "metadata": {},
   "outputs": [
    {
     "data": {
      "text/plain": [
       "array([ 0.01267319, -0.1309769 ,  0.3774111 , -0.00243668])"
      ]
     },
     "execution_count": 33,
     "metadata": {},
     "output_type": "execute_result"
    }
   ],
   "source": [
    "'''\n",
    "Question 6\n",
    "\n",
    "7 equations with a, b, c, d as parameters : \n",
    "Template : y = exp(x)*a+x^2*b+x*c+d\n",
    "d=0\n",
    "(e^(0.5))*a+0.25b+0.5c+d=0.20\n",
    "ea+b+c+d=0.27\n",
    "(e^(1.5))*a+2.25b+1.5c+d=0.30\n",
    "(e^2)a+4b+2c+d=0.32\n",
    "(e^(2.5))*a+6.25b+2.5c+d=0.35\n",
    "(e^3)a+9b+3c+d=0.27\n",
    "\n",
    "'''\n",
    "t = np.array([0, 0.5, 1, 1.5, 2, 2, 2.5])\n",
    "A1 = np.zeros((len(t),4))\n",
    "\n",
    "A1[:,0] = np.exp(t)\n",
    "A1[:,1] = t**2\n",
    "A1[:,2] = t\n",
    "A1[:,3] = np.ones(len(t))\n",
    "\n",
    "b = np.array([0, 0.20, 0.27, 0.30, 0.32, 0.35, 0.27]).transpose()\n",
    "\n",
    "PseudoInv = A1.transpose().dot(A1)\n",
    "\n",
    "x =  np.linalg.inv(PseudoInv).dot(A1.transpose().dot(b))\n",
    "x"
   ]
  },
  {
   "cell_type": "code",
   "execution_count": 45,
   "metadata": {},
   "outputs": [
    {
     "data": {
      "image/png": "[encoded data removed]",
      "text/plain": [
       "<Figure size 432x288 with 1 Axes>"
      ]
     },
     "metadata": {
      "needs_background": "light"
     },
     "output_type": "display_data"
    }
   ],
   "source": [
    "x_1 = np.linspace(0, 3)\n",
    "\n",
    "plt.plot(x_1, x[0]*np.exp(x_1)+x[1]*x_1**2+x[2]*x_1+x[3], label='f(x)')\n",
    "\n",
    "plt.plot([0.0, 0.5, 1.0, 1.5, 2.0, 2.0, 2.5], [0.0, 0.20, 0.27, 0.30, 0.32, 0.35, 0.27], ls='', marker='*', label='Data')\n",
    "\n",
    "plt.xlabel('X')\n",
    "plt.ylabel('Y')\n",
    "plt.legend();\n",
    "\n",
    "plt.title('Least Squares Data Fitting');"
   ]
  }
 ],
 "metadata": {
  "interpreter": {
   "hash": "ff2b1e4ffdb653ebd272734138bf71daa0185a5dbad81b159ebf24b9808de320"
  },
  "kernelspec": {
   "display_name": "Python 3.9.12 64-bit ('base': conda)",
   "language": "python",
   "name": "python3"
  },
  "language_info": {
   "codemirror_mode": {
    "name": "ipython",
    "version": 3
   },
   "file_extension": ".py",
   "mimetype": "text/x-python",
   "name": "python",
   "nbconvert_exporter": "python",
   "pygments_lexer": "ipython3",
   "version": "3.8.6"
  },
  "orig_nbformat": 4
 },
 "nbformat": 4,
 "nbformat_minor": 2
}
