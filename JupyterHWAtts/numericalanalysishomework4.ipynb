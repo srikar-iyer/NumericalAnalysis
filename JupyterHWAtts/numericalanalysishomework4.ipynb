{
 "cells": [
  {
   "cell_type": "code",
   "execution_count": 1,
   "metadata": {},
   "outputs": [],
   "source": [
    "import numpy as np\n",
    "from numpy import linalg\n",
    "import matplotlib.pyplot as plt\n",
    "import time"
   ]
  },
  {
   "cell_type": "code",
   "execution_count": 2,
   "metadata": {},
   "outputs": [],
   "source": [
    "'''\n",
    "Problem 1C\n",
    "This program sums over the absolute value of the columns of any finite matrix and \n",
    "takes the maximum value of the resulting vector to get the 1 norm of the matrix, and \n",
    "sums over the absolute value of the rows of any finite matrix and \n",
    "takes the maximum value of the resulting vector to get the infinity norm of the matrix.\n",
    "\n",
    "Problem 1D\n",
    "The part after this looks at the runtime of the norm methods I created and the numpy\n",
    "generated norm methods of matrices ranging from size 100X100 to 12800X12800. These results \n",
    "are then graphed to compare them and derive a conclusion from the results.\n",
    "'''\n",
    "def onenorm(X):\n",
    "    r = np.max(np.sum(np.abs(X),0))\n",
    "    return r\n",
    "\n",
    "def infnorm(X):\n",
    "    r = np.max(np.sum(np.abs(X),1))\n",
    "    return r\n",
    "\n",
    "        "
   ]
  },
  {
   "cell_type": "code",
   "execution_count": 3,
   "metadata": {},
   "outputs": [
    {
     "name": "stdout",
     "output_type": "stream",
     "text": [
      "The starting time is 1669927821.7849786 and the ending time is 1669927821.8667507\n",
      "The time taken for this iteration is 0.0817720890045166\n",
      "The starting time is 1669927821.8667507 and the ending time is 1669927821.8667507\n",
      "The time taken for this iteration is 0.0\n",
      "The starting time is 1669927821.8667507 and the ending time is 1669927821.8749566\n",
      "The time taken for this iteration is 0.008205890655517578\n",
      "The starting time is 1669927821.8749566 and the ending time is 1669927821.894214\n",
      "The time taken for this iteration is 0.019257307052612305\n",
      "The starting time is 1669927821.894214 and the ending time is 1669927821.9547222\n",
      "The time taken for this iteration is 0.06050825119018555\n",
      "The starting time is 1669927821.9547222 and the ending time is 1669927822.1106017\n",
      "The time taken for this iteration is 0.15587949752807617\n",
      "The starting time is 1669927822.1106017 and the ending time is 1669927822.7356133\n",
      "The time taken for this iteration is 0.625011682510376\n",
      "Clearly, my hypothesis in 1B is correct with some error due to the randomness of the matrices since the time between iterations roughly doubles after every round\n"
     ]
    }
   ],
   "source": [
    "timelist1N=[]\n",
    "for i in range(0,7):\n",
    "    starttime1N=time.time()\n",
    "    onenorm(np.random.rand(100*2**i,100*2**i))\n",
    "    endtime1N=time.time()\n",
    "    timelist1N.append(endtime1N-starttime1N)\n",
    "    print(\"The starting time is \" + str(starttime1N) + \" and the ending time is \" + str(endtime1N))\n",
    "    print(\"The time taken for this iteration is \" + str(endtime1N-starttime1N))\n",
    "print(\"Clearly, my hypothesis in 1B is correct with some error due to the randomness of the matrices since the time between iterations roughly doubles after every round\")"
   ]
  },
  {
   "cell_type": "code",
   "execution_count": 4,
   "metadata": {},
   "outputs": [
    {
     "name": "stdout",
     "output_type": "stream",
     "text": [
      "The starting time is 1669927822.7692816 and the ending time is 1669927822.796682\n",
      "The time taken for this iteration is 0.02740025520324707\n",
      "The starting time is 1669927822.796682 and the ending time is 1669927822.7984347\n",
      "The time taken for this iteration is 0.0017528533935546875\n",
      "The starting time is 1669927822.7984347 and the ending time is 1669927822.8018863\n",
      "The time taken for this iteration is 0.0034515857696533203\n",
      "The starting time is 1669927822.8018863 and the ending time is 1669927822.8194644\n",
      "The time taken for this iteration is 0.017578125\n",
      "The starting time is 1669927822.8194644 and the ending time is 1669927822.8867552\n",
      "The time taken for this iteration is 0.0672907829284668\n",
      "The starting time is 1669927822.8867552 and the ending time is 1669927823.0933132\n",
      "The time taken for this iteration is 0.2065579891204834\n",
      "The starting time is 1669927823.0933132 and the ending time is 1669927823.69428\n",
      "The time taken for this iteration is 0.6009666919708252\n",
      "My hypothesis in 1B is still correct with some error due to similar results as the 1 norm\n"
     ]
    }
   ],
   "source": [
    "timelistIN=[]\n",
    "for i in range(0,7):\n",
    "    starttimeIN=time.time()\n",
    "    infnorm(np.random.rand(100*2**i,100*2**i))\n",
    "    endtimeIN=time.time()\n",
    "    timelistIN.append(endtimeIN-starttimeIN)\n",
    "    print(\"The starting time is \" + str(starttimeIN) + \" and the ending time is \" + str(endtimeIN))\n",
    "    print(\"The time taken for this iteration is \" + str(endtimeIN-starttimeIN))\n",
    "print(\"My hypothesis in 1B is still correct with some error due to similar results as the 1 norm\")"
   ]
  },
  {
   "cell_type": "code",
   "execution_count": 5,
   "metadata": {},
   "outputs": [
    {
     "name": "stdout",
     "output_type": "stream",
     "text": [
      "The starting time is 1669927823.7694137 and the ending time is 1669927823.7702672\n",
      "The time taken for this iteration is 0.0008535385131835938\n",
      "The starting time is 1669927823.7702672 and the ending time is 1669927823.7713287\n",
      "The time taken for this iteration is 0.0010614395141601562\n",
      "The starting time is 1669927823.772045 and the ending time is 1669927823.778524\n",
      "The time taken for this iteration is 0.006479024887084961\n",
      "The starting time is 1669927823.778524 and the ending time is 1669927823.7940018\n",
      "The time taken for this iteration is 0.015477895736694336\n",
      "The starting time is 1669927823.7940018 and the ending time is 1669927823.837859\n",
      "The time taken for this iteration is 0.04385709762573242\n",
      "The starting time is 1669927823.837859 and the ending time is 1669927823.9869518\n",
      "The time taken for this iteration is 0.1490929126739502\n",
      "The starting time is 1669927823.9869518 and the ending time is 1669927824.5521486\n",
      "The time taken for this iteration is 0.5651967525482178\n"
     ]
    }
   ],
   "source": [
    "'''\n",
    "Problem 1D\n",
    "'''\n",
    "NPtimelist1N=[]\n",
    "for i in range(0,7):\n",
    "    NPstarttime1N=time.time()\n",
    "    np.linalg.norm(np.random.rand(100*2**i,100*2**i), 1)\n",
    "    NPendtime1N=time.time()\n",
    "    NPtimelist1N.append(NPendtime1N-NPstarttime1N)\n",
    "    print(\"The starting time is \" + str(NPstarttime1N) + \" and the ending time is \" + str(NPendtime1N))\n",
    "    print(\"The time taken for this iteration is \" + str(NPendtime1N-NPstarttime1N))\n",
    "#this method, for the next 3 functions as well, tracks how long each iteration takes with my norms vs numpy's defined norms"
   ]
  },
  {
   "cell_type": "code",
   "execution_count": 6,
   "metadata": {},
   "outputs": [
    {
     "name": "stdout",
     "output_type": "stream",
     "text": [
      "The starting time is 1669927824.5837998 and the ending time is 1669927824.5837998\n",
      "The time taken for this iteration is 0.0\n",
      "The starting time is 1669927824.5837998 and the ending time is 1669927824.5909946\n",
      "The time taken for this iteration is 0.0071947574615478516\n",
      "The starting time is 1669927824.5909946 and the ending time is 1669927824.5919209\n",
      "The time taken for this iteration is 0.0009262561798095703\n",
      "The starting time is 1669927824.5919209 and the ending time is 1669927824.6036673\n",
      "The time taken for this iteration is 0.011746406555175781\n",
      "The starting time is 1669927824.6036673 and the ending time is 1669927824.665471\n",
      "The time taken for this iteration is 0.06180381774902344\n",
      "The starting time is 1669927824.665471 and the ending time is 1669927824.8107815\n",
      "The time taken for this iteration is 0.1453104019165039\n",
      "The starting time is 1669927824.8107815 and the ending time is 1669927825.4112027\n",
      "The time taken for this iteration is 0.6004211902618408\n"
     ]
    }
   ],
   "source": [
    "NPtimelistIN=[]\n",
    "for i in range(0,7):\n",
    "    NPstarttimeIN=time.time()\n",
    "    np.linalg.norm(np.random.rand(100*2**i,100*2**i), np.inf)\n",
    "    NPendtimeIN=time.time()\n",
    "    NPtimelistIN.append(NPendtimeIN-NPstarttimeIN)\n",
    "    print(\"The starting time is \" + str(NPstarttimeIN) + \" and the ending time is \" + str(NPendtimeIN))\n",
    "    print(\"The time taken for this iteration is \" + str(NPendtimeIN-NPstarttimeIN))\n"
   ]
  },
  {
   "cell_type": "code",
   "execution_count": 7,
   "metadata": {},
   "outputs": [
    {
     "data": {
      "image/png": "[encoded data removed]",
      "text/plain": [
       "<Figure size 432x288 with 1 Axes>"
      ]
     },
     "metadata": {
      "needs_background": "light"
     },
     "output_type": "display_data"
    }
   ],
   "source": [
    "ts = np.linspace(0, 7)\n",
    "iterations = [1,2,3,4,5,6,7]\n",
    "'''\n",
    "this plot plots the difference in time per iteration for each sequence\n",
    "'''\n",
    "plt.plot(iterations, timelist1N, ls='', marker='o', label='MyOneNorm', color='0')\n",
    "plt.plot(iterations, timelistIN, ls='', marker='o', label='MyInfNorm', color = '0.5')\n",
    "plt.plot(iterations, NPtimelist1N, ls='', marker='o', label='NPOneNorm', color = 'r')\n",
    "plt.plot(iterations, NPtimelistIN, ls='', marker='o', label='NPInfNorm', color = 'b')\n",
    "\n",
    "plt.xlabel('Iteration')\n",
    "plt.ylabel('Difference in Time')\n",
    "plt.legend();\n",
    "\n",
    "plt.title('Fitted Runtime Models');"
   ]
  },
  {
   "cell_type": "code",
   "execution_count": 8,
   "metadata": {},
   "outputs": [
    {
     "name": "stdout",
     "output_type": "stream",
     "text": [
      "NumPy's implementation and my implementation for both norms are pretty similar regarding runtime, with some stochasticity probably due to the random matrices.\n"
     ]
    },
    {
     "data": {
      "image/png": "[encoded data removed]",
      "text/plain": [
       "<Figure size 432x288 with 1 Axes>"
      ]
     },
     "metadata": {
      "needs_background": "light"
     },
     "output_type": "display_data"
    }
   ],
   "source": [
    "ts = np.linspace(0, 5)\n",
    "iterations = [1,2,3,4,5]\n",
    "Smalltl1N=[timelist1N[0], timelist1N[1], timelist1N[2], timelist1N[3], timelist1N[4]]\n",
    "SmalltlIN=[timelistIN[0], timelistIN[1], timelistIN[2], timelistIN[3], timelistIN[4]]\n",
    "SmallNPtl1N=[NPtimelist1N[0], NPtimelist1N[1], NPtimelist1N[2], NPtimelist1N[3], NPtimelist1N[4]]\n",
    "SmallNPtlIN=[NPtimelistIN[0], NPtimelistIN[1], NPtimelistIN[2], NPtimelistIN[3], NPtimelistIN[4]]\n",
    "#creating a smaller version of the graph with less points for more visibility / perspective\n",
    "plt.plot(iterations, Smalltl1N, ls='', marker='o', label='MyOneNorm', color='0')\n",
    "plt.plot(iterations, SmalltlIN, ls='', marker='o', label='MyInfNorm', color = '0.5')\n",
    "plt.plot(iterations, SmallNPtl1N, ls='', marker='o', label='NPOneNorm', color = 'r')\n",
    "plt.plot(iterations, SmallNPtlIN, ls='', marker='o', label='NPInfNorm', color = 'b')\n",
    "#1 set of points per sequence\n",
    "plt.xlabel('Iteration')\n",
    "plt.ylabel('Difference in Time')\n",
    "plt.legend();\n",
    "\n",
    "plt.title('Fitted Runtime Models');\n",
    "print(\"NumPy's implementation and my implementation for both norms are pretty similar regarding runtime, with some stochasticity probably due to the random matrices.\")"
   ]
  },
  {
   "cell_type": "code",
   "execution_count": 9,
   "metadata": {},
   "outputs": [
    {
     "name": "stdout",
     "output_type": "stream",
     "text": [
      "[[-0.6  0. ]\n",
      " [-0.8  0. ]\n",
      " [-0.  -1. ]]\n",
      "\n",
      "[[-15.  10.]\n",
      " [  0. -20.]]\n"
     ]
    }
   ],
   "source": [
    "'''\n",
    "Question 5\n",
    "'''\n",
    "A = np.array([[9, -6], [12, -8], [0, 20]])\n",
    "Q, R = np.linalg.qr(A)\n",
    "print(Q)\n",
    "print('')\n",
    "print(R)\n"
   ]
  },
  {
   "cell_type": "code",
   "execution_count": 10,
   "metadata": {},
   "outputs": [
    {
     "data": {
      "text/plain": [
       "(array([300, 600, 900]), array([74., 45.]))"
      ]
     },
     "execution_count": 10,
     "metadata": {},
     "output_type": "execute_result"
    }
   ],
   "source": [
    "b = np.transpose(np.array([300, 600, 900]))\n",
    "x = linalg.solve(R, (Q.transpose() @ b))\n",
    "b, x"
   ]
  },
  {
   "cell_type": "code",
   "execution_count": 11,
   "metadata": {},
   "outputs": [],
   "source": [
    "def F_1(z):\n",
    "    return (300-9*z)/(-6)\n",
    "def F_2(z): \n",
    "    return (600-12*z)/(-8)\n",
    "def F_3(z):\n",
    "    return 900/20+0*z"
   ]
  },
  {
   "cell_type": "code",
   "execution_count": 12,
   "metadata": {},
   "outputs": [
    {
     "data": {
      "image/png": "[encoded data removed]",
      "text/plain": [
       "<Figure size 432x288 with 1 Axes>"
      ]
     },
     "metadata": {
      "needs_background": "light"
     },
     "output_type": "display_data"
    }
   ],
   "source": [
    "z = np.linspace(0, 100)\n",
    "\n",
    "plt.plot(z, F_1(z), label='Line 1')\n",
    "plt.plot(z, F_2(z), label='Line 2')\n",
    "plt.plot(z, F_3(z), label='Line 3')\n",
    "\n",
    "plt.plot(74, 45, ls='', marker='*', label='Observations')\n",
    "\n",
    "plt.xlabel('Time')\n",
    "plt.ylabel('Infections')\n",
    "plt.legend();\n",
    "\n",
    "plt.title('Fitted infection models');"
   ]
  },
  {
   "cell_type": "code",
   "execution_count": 13,
   "metadata": {},
   "outputs": [
    {
     "data": {
      "text/plain": [
       "array([ 0.01267319, -0.1309769 ,  0.3774111 , -0.00243668])"
      ]
     },
     "execution_count": 13,
     "metadata": {},
     "output_type": "execute_result"
    }
   ],
   "source": [
    "'''\n",
    "Question 6\n",
    "\n",
    "7 equations with a, b, c, d as parameters : \n",
    "Template : y = exp(x)*a+x^2*b+x*c+d\n",
    "d=0\n",
    "(e^(0.5))*a+0.25b+0.5c+d=0.20\n",
    "ea+b+c+d=0.27\n",
    "(e^(1.5))*a+2.25b+1.5c+d=0.30\n",
    "(e^2)a+4b+2c+d=0.32\n",
    "(e^(2.5))*a+6.25b+2.5c+d=0.35\n",
    "(e^3)a+9b+3c+d=0.27\n",
    "\n",
    "'''\n",
    "t = np.array([0, 0.5, 1, 1.5, 2, 2, 2.5])\n",
    "A1 = np.zeros((len(t),4))\n",
    "\n",
    "A1[:,0] = np.exp(t)\n",
    "A1[:,1] = t**2\n",
    "A1[:,2] = t\n",
    "A1[:,3] = np.ones(len(t))\n",
    "\n",
    "b = np.array([0, 0.20, 0.27, 0.30, 0.32, 0.35, 0.27]).transpose()\n",
    "\n",
    "PseudoInv = A1.transpose().dot(A1)\n",
    "\n",
    "x =  np.linalg.inv(PseudoInv).dot(A1.transpose().dot(b))\n",
    "x"
   ]
  },
  {
   "cell_type": "code",
   "execution_count": 14,
   "metadata": {},
   "outputs": [
    {
     "data": {
      "image/png": "[encoded data removed]",
      "text/plain": [
       "<Figure size 432x288 with 1 Axes>"
      ]
     },
     "metadata": {
      "needs_background": "light"
     },
     "output_type": "display_data"
    }
   ],
   "source": [
    "x_1 = np.linspace(0, 3)\n",
    "\n",
    "plt.plot(x_1, x[0]*np.exp(x_1)+x[1]*x_1**2+x[2]*x_1+x[3], label='f(x)')\n",
    "\n",
    "plt.plot([0.0, 0.5, 1.0, 1.5, 2.0, 2.0, 2.5], [0.0, 0.20, 0.27, 0.30, 0.32, 0.35, 0.27], ls='', marker='*', label='Data')\n",
    "\n",
    "plt.xlabel('X')\n",
    "plt.ylabel('Y')\n",
    "plt.legend();\n",
    "\n",
    "plt.title('Least Squares Data Fitting');"
   ]
  }
 ],
 "metadata": {
  "kernelspec": {
   "display_name": "Python 3.9.13 64-bit (windows store)",
   "language": "python",
   "name": "python3"
  },
  "language_info": {
   "codemirror_mode": {
    "name": "ipython",
    "version": 3
   },
   "file_extension": ".py",
   "mimetype": "text/x-python",
   "name": "python",
   "nbconvert_exporter": "python",
   "pygments_lexer": "ipython3",
   "version": "3.9.13"
  },
  "orig_nbformat": 4,
  "vscode": {
   "interpreter": {
    "hash": "f487cd0f1b314ae66fc495c393638a2de5bc0981475fb8126a23876567974a5b"
   }
  }
 },
 "nbformat": 4,
 "nbformat_minor": 2
}
