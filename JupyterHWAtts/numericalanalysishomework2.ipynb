{
 "cells": [
  {
   "cell_type": "code",
   "execution_count": 403,
   "id": "97283706-b0ad-4173-bf0f-9d57c6f35b77",
   "metadata": {},
   "outputs": [],
   "source": [
    "%matplotlib inline\n",
    "import numpy as np\n",
    "plt.style.use('seaborn-whitegrid')\n",
    "import matplotlib.pyplot as plt"
   ]
  },
  {
   "cell_type": "code",
   "execution_count": 404,
   "id": "e5a0880f",
   "metadata": {},
   "outputs": [],
   "source": [
    "'Problem 1D, enjoy! - Srikar'\n",
    "\n",
    "a_0 = np.array([2.0, 3.0])\n",
    "a_1 = np.array([-1.5, 2.0])\n",
    "at = a.transpose()\n",
    "\n"
   ]
  },
  {
   "cell_type": "code",
   "execution_count": 405,
   "id": "3e2d81db",
   "metadata": {},
   "outputs": [],
   "source": [
    "\n",
    "def nm2D(a):\n",
    "    \"\"\"\n",
    "    Given a length 2 vector a and a predetermined function in the form f(x,y),  \n",
    "    this method computes a 2D newton's method iteration . The vector a represents\n",
    "    (x, y).\n",
    "\n",
    "    Parameters : \n",
    "        a : np.array\n",
    "        \n",
    "    Returns:\n",
    "        a_n : np.array \n",
    "    \"\"\"\n",
    "    if  a is None:\n",
    "        raise ValueError(\"You put in nothing...\")\n",
    "    \n",
    "    a0, a1 = float(a[0]), float(a[1])\n",
    "    j1, j2, j3, j4 = 4.0*a0, 16.0*a1,-1.0*np.sqrt(3)*a0, 1.0\n",
    "    jac = np.array([[j1, j2],\n",
    "                    [j3, j4]])\n",
    "    f_a = np.array([2*a0**2 + 8*a1**2 - 8, a1 - (np.sqrt(3))/2 * a0**2])\n",
    "    f_at = f_a.transpose()\n",
    "    invjac = np.linalg.inv(jac)\n",
    "    a_n = at - invjac@f_at\n",
    "    \n",
    "    return a_n\n",
    "\n"
   ]
  },
  {
   "cell_type": "code",
   "execution_count": 406,
   "id": "7529b1a9",
   "metadata": {},
   "outputs": [
    {
     "name": "stdout",
     "output_type": "stream",
     "text": [
      "[1.45903967 1.59016006]\n",
      "[1.67298593 2.42702468]\n",
      "[1.62588948 1.91281937]\n",
      "[1.58915359 2.21953905]\n",
      "[1.66083708 2.03398526]\n"
     ]
    }
   ],
   "source": [
    "for i in range(5): \n",
    "    print(nm2D(a_0))\n",
    "    a_0 = nm2D(a_0)\n"
   ]
  },
  {
   "cell_type": "code",
   "execution_count": 407,
   "id": "e70eeeab",
   "metadata": {},
   "outputs": [
    {
     "name": "stdout",
     "output_type": "stream",
     "text": [
      "[2.30125981 2.16586121]\n",
      "[1.15838506 2.06584119]\n",
      "[2.01475769 2.12584971]\n",
      "[1.34096161 2.08974097]\n",
      "[1.84668237 2.11142927]\n"
     ]
    }
   ],
   "source": [
    "for i in range(5): \n",
    "    print(nmtwospecific(a_1))\n",
    "    a_1 = nmtwospecific(a_1)"
   ]
  },
  {
   "cell_type": "code",
   "execution_count": 408,
   "id": "38179c54",
   "metadata": {},
   "outputs": [
    {
     "data": {
      "image/png": "[encoded data removed]",
      "text/plain": [
       "<Figure size 432x288 with 1 Axes>"
      ]
     },
     "metadata": {},
     "output_type": "display_data"
    }
   ],
   "source": [
    "for i in range(5): \n",
    "    x=a_1[0]\n",
    "    y=a_1[1]\n",
    "    a_1 = nmtwospecific(a_1)\n",
    "    plt.plot(x, y, 'o', color='black');\n",
    "\n",
    "plt.plot(x, y, 'o', color='black');"
   ]
  },
  {
   "cell_type": "code",
   "execution_count": 409,
   "id": "c91e620d",
   "metadata": {},
   "outputs": [
    {
     "data": {
      "image/png": "[encoded data removed]",
      "text/plain": [
       "<Figure size 432x288 with 1 Axes>"
      ]
     },
     "metadata": {},
     "output_type": "display_data"
    }
   ],
   "source": [
    "for i in range(5): \n",
    "    x=a_0[0]\n",
    "    y=a_0[1]\n",
    "    a_0 = nmtwospecific(a_0)\n",
    "    plt.plot(x, y, 'o', color='black');\n",
    "\n",
    "plt.plot(x, y, 'o', color='black');"
   ]
  },
  {
   "cell_type": "code",
   "execution_count": 430,
   "id": "e6699758",
   "metadata": {},
   "outputs": [],
   "source": [
    "'Problem 5B - Srikar'\n",
    "def cholesky(A):\n",
    "    '''\n",
    "    Given a positive definite, symmetric nxn matrix A, computes the R * R transpose decomposition without\n",
    "    pivoting.\n",
    "\n",
    "    Parameters:\n",
    "        A : np.ndarray\n",
    "    Returns\n",
    "        R, R transpose : np.ndarray\n",
    "    '''\n",
    "    # Check shapes\n",
    "    if np.shape(A)[0] != np.shape(A)[1]:\n",
    "        raise ValueError(\"Matrix dimensions should be the same length\")\n",
    "\n",
    "    n = np.shape(A)[0]\n",
    "    R = np.zeros((n,n))\n",
    "\n",
    "    for j in np.arange(0, n):\n",
    "        \n",
    "        # R_j factors\n",
    "        sum_prod_1 = np.sum(\n",
    "            [R[j,k]*R[j,k] for k in np.arange(0, j)]\n",
    "        )\n",
    "        # Raise ValueError if the sqrt is negative\n",
    "        if ((A[j, j] - sum_prod_1) < 0):\n",
    "            raise ValueError(\"Because this matrix isn't positive definite, Cholesky Factorization is impossible.\")\n",
    "            \n",
    "        R[j, j] = np.sqrt(A[j, j] - sum_prod_1)\n",
    "        \n",
    "        for i in np.arange(j+1, n):\n",
    "            sum_prod_2 = np.sum(\n",
    "                [R[i, k]*R[j, k] for k in np.arange(0, j)]\n",
    "            )\n",
    "            R[i, j] = (1/(R[j, j]))*(A[i, j] - sum_prod_2)\n",
    "\n",
    "    return R, R.transpose()\n",
    "\n",
    "\n",
    "                \n",
    "\n",
    "\n"
   ]
  },
  {
   "cell_type": "code",
   "execution_count": 431,
   "id": "51af0956-c0e3-4dc9-b7dc-5ed1edd3f798",
   "metadata": {},
   "outputs": [
    {
     "name": "stdout",
     "output_type": "stream",
     "text": [
      "Cholesky Factorization of B\n",
      "Matrix R:\n",
      "[[1.41421356 0.         0.         0.        ]\n",
      " [0.70710678 1.87082869 0.         0.        ]\n",
      " [0.35355339 0.40089186 1.92724822 0.        ]\n",
      " [0.1767767  0.20044593 0.44474959 1.31558703]]\n",
      "Matrix R Transpose:\n",
      "[[1.41421356 0.70710678 0.35355339 0.1767767 ]\n",
      " [0.         1.87082869 0.40089186 0.20044593]\n",
      " [0.         0.         1.92724822 0.44474959]\n",
      " [0.         0.         0.         1.31558703]]\n",
      "[[2.   1.   0.5  0.25]\n",
      " [1.   4.   1.   0.5 ]\n",
      " [0.5  1.   4.   1.  ]\n",
      " [0.25 0.5  1.   2.  ]]\n"
     ]
    }
   ],
   "source": [
    "B = np.array([[2, 1, 1/2, 1/4], [1, 4, 1, 1/2], [1/2, 1, 4, 1], [1/4, 1/2, 1, 2]])\n",
    "\n",
    "print(\"Cholesky Factorization of B\")\n",
    "R, Rt = cholesky(B)\n",
    "print(\"Matrix R:\")\n",
    "print(R)\n",
    "print(\"Matrix R Transpose:\")\n",
    "print(Rt)\n",
    "print(R@Rt)"
   ]
  },
  {
   "cell_type": "code",
   "execution_count": null,
   "id": "84cf1bd4-6e0f-490b-9b74-decbe27d70b2",
   "metadata": {},
   "outputs": [],
   "source": []
  }
 ],
 "metadata": {
  "kernelspec": {
   "display_name": "Python 3 (ipykernel)",
   "language": "python",
   "name": "python3"
  },
  "language_info": {
   "codemirror_mode": {
    "name": "ipython",
    "version": 3
   },
   "file_extension": ".py",
   "mimetype": "text/x-python",
   "name": "python",
   "nbconvert_exporter": "python",
   "pygments_lexer": "ipython3",
   "version": "3.8.6"
  }
 },
 "nbformat": 4,
 "nbformat_minor": 5
}
